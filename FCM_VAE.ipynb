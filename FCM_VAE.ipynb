{
  "nbformat": 4,
  "nbformat_minor": 0,
  "metadata": {
    "accelerator": "GPU",
    "colab": {
      "name": "FCM_VAE.ipynb",
      "provenance": [],
      "collapsed_sections": [],
      "include_colab_link": true
    },
    "kernelspec": {
      "display_name": "Python 3",
      "name": "python3"
    },
    "language_info": {
      "name": "python"
    }
  },
  "cells": [
    {
      "cell_type": "markdown",
      "metadata": {
        "id": "view-in-github",
        "colab_type": "text"
      },
      "source": [
        "<a href=\"https://colab.research.google.com/github/vietnguyen012/FER_embedding_clustering/blob/main/FCM_VAE.ipynb\" target=\"_parent\"><img src=\"https://colab.research.google.com/assets/colab-badge.svg\" alt=\"Open In Colab\"/></a>"
      ]
    },
    {
      "cell_type": "markdown",
      "metadata": {
        "id": "fgNuq-dB_od7"
      },
      "source": [
        "# I. Set up environment"
      ]
    },
    {
      "cell_type": "markdown",
      "metadata": {
        "id": "sEY5ZEcQPz6t"
      },
      "source": [
        "- Load data via URL"
      ]
    },
    {
      "cell_type": "code",
      "metadata": {
        "colab": {
          "base_uri": "https://localhost:8080/"
        },
        "id": "wMitq4XRNUiH",
        "outputId": "b6ae25f3-6f2c-4231-cc58-687630dfa502"
      },
      "source": [
        "!gdown https://drive.google.com/uc?id=1OCF_6ZblqfmUjI8spsa85l1JKLXqiQFq\n",
        "!unzip -q fer2013.zip\n",
        "!rm fer2013.zip"
      ],
      "execution_count": 1,
      "outputs": [
        {
          "output_type": "stream",
          "text": [
            "Downloading...\n",
            "From: https://drive.google.com/uc?id=1OCF_6ZblqfmUjI8spsa85l1JKLXqiQFq\n",
            "To: /content/fer2013.zip\n",
            "63.3MB [00:02, 28.5MB/s]\n"
          ],
          "name": "stdout"
        }
      ]
    },
    {
      "cell_type": "markdown",
      "metadata": {
        "id": "l492F-SlQI47"
      },
      "source": [
        "- Load data via directory"
      ]
    },
    {
      "cell_type": "code",
      "metadata": {
        "colab": {
          "base_uri": "https://localhost:8080/"
        },
        "id": "y58jQor7jQ_w",
        "outputId": "11f4304a-f61d-42db-e490-6bc4af1b2384"
      },
      "source": [
        "!unzip /content/drive/MyDrive/fer2013.zip"
      ],
      "execution_count": null,
      "outputs": [
        {
          "output_type": "stream",
          "text": [
            "unzip:  cannot find or open /content/drive/MyDrive/fer2013.zip, /content/drive/MyDrive/fer2013.zip.zip or /content/drive/MyDrive/fer2013.zip.ZIP.\n"
          ],
          "name": "stdout"
        }
      ]
    },
    {
      "cell_type": "code",
      "metadata": {
        "colab": {
          "base_uri": "https://localhost:8080/",
          "height": 284
        },
        "id": "DjUIAKs_q8vT",
        "outputId": "992b9d39-3cfb-4008-d636-844b9e2895ff"
      },
      "source": [
        "import matplotlib.pyplot as plt\n",
        "from glob import glob\n",
        "from PIL import Image\n",
        "import torch\n",
        "from torch.autograd import Variable\n",
        "from torchvision import datasets, transforms\n",
        "import numpy as np\n",
        "import torch.nn as nn\n",
        "%matplotlib inline\n",
        "image = Image.open('/content/train/neutral/Training_10002154.jpg')\n",
        "image = np.asarray(image)/255\n",
        "plt.imshow(image)"
      ],
      "execution_count": 1,
      "outputs": [
        {
          "output_type": "execute_result",
          "data": {
            "text/plain": [
              "<matplotlib.image.AxesImage at 0x7f5c1a7d0c10>"
            ]
          },
          "metadata": {
            "tags": []
          },
          "execution_count": 1
        },
        {
          "output_type": "display_data",
          "data": {
            "image/png": "[encoded data removed]",
            "text/plain": [
              "<Figure size 432x288 with 1 Axes>"
            ]
          },
          "metadata": {
            "tags": [],
            "needs_background": "light"
          }
        }
      ]
    },
    {
      "cell_type": "markdown",
      "metadata": {
        "id": "fbExhtkfFzkN"
      },
      "source": [
        "a sample image from dataset"
      ]
    },
    {
      "cell_type": "code",
      "metadata": {
        "colab": {
          "base_uri": "https://localhost:8080/"
        },
        "id": "cIA_qoFSr3hS",
        "outputId": "5d9b7b41-1335-458f-ce71-12bcc84c0a07"
      },
      "source": [
        "image"
      ],
      "execution_count": 2,
      "outputs": [
        {
          "output_type": "execute_result",
          "data": {
            "text/plain": [
              "array([[0.05490196, 0.05882353, 0.03921569, ..., 0.05098039, 0.0627451 ,\n",
              "        0.05098039],\n",
              "       [0.03529412, 0.06666667, 0.1254902 , ..., 0.06666667, 0.05098039,\n",
              "        0.05490196],\n",
              "       [0.32941176, 0.34509804, 0.36862745, ..., 0.05882353, 0.05098039,\n",
              "        0.0627451 ],\n",
              "       ...,\n",
              "       [0.04313725, 0.32156863, 0.14117647, ..., 0.19607843, 0.16862745,\n",
              "        0.10196078],\n",
              "       [0.07058824, 0.04313725, 0.0627451 , ..., 0.16862745, 0.14117647,\n",
              "        0.0745098 ],\n",
              "       [0.05490196, 0.05882353, 0.07843137, ..., 0.15686275, 0.1372549 ,\n",
              "        0.04705882]])"
            ]
          },
          "metadata": {
            "tags": []
          },
          "execution_count": 2
        }
      ]
    },
    {
      "cell_type": "code",
      "metadata": {
        "id": "t4GTuoFtja7P",
        "colab": {
          "base_uri": "https://localhost:8080/"
        },
        "outputId": "10de2027-873e-4ea1-c09e-a934a138963a"
      },
      "source": [
        "\n",
        "transform = transforms.Compose([transforms.Grayscale(),\n",
        "                                    transforms.Resize((128,128),interpolation=Image.NEAREST),\n",
        "                                      transforms.ToTensor(),\n",
        "                                      transforms.Normalize((0.5,),(0.5,))])\n",
        "\n",
        "data = datasets.ImageFolder('/content/train', transform=transform)\n",
        "data_test = datasets.ImageFolder('/content/test', transform=transform)"
      ],
      "execution_count": 23,
      "outputs": [
        {
          "output_type": "stream",
          "text": [
            "/usr/local/lib/python3.7/dist-packages/torchvision/transforms/transforms.py:281: UserWarning: Argument interpolation should be of type InterpolationMode instead of int. Please, use InterpolationMode enum.\n",
            "  \"Argument interpolation should be of type InterpolationMode instead of int. \"\n"
          ],
          "name": "stderr"
        }
      ]
    },
    {
      "cell_type": "markdown",
      "metadata": {
        "id": "rL6RDJtaF54D"
      },
      "source": [
        "total samples of training data"
      ]
    },
    {
      "cell_type": "code",
      "metadata": {
        "colab": {
          "base_uri": "https://localhost:8080/"
        },
        "id": "WIVBzW3EoHZK",
        "outputId": "8d468b37-741c-4a92-b897-7049a1bfd1a6"
      },
      "source": [
        "len(data)"
      ],
      "execution_count": 4,
      "outputs": [
        {
          "output_type": "execute_result",
          "data": {
            "text/plain": [
              "28709"
            ]
          },
          "metadata": {
            "tags": []
          },
          "execution_count": 4
        }
      ]
    },
    {
      "cell_type": "code",
      "metadata": {
        "colab": {
          "base_uri": "https://localhost:8080/"
        },
        "id": "HmRLTR-wK6EX",
        "outputId": "52c9bc64-0785-4d04-b7ba-7f1eead747b9"
      },
      "source": [
        "data.class_to_idx"
      ],
      "execution_count": 5,
      "outputs": [
        {
          "output_type": "execute_result",
          "data": {
            "text/plain": [
              "{'angry': 0,\n",
              " 'disgust': 1,\n",
              " 'fear': 2,\n",
              " 'happy': 3,\n",
              " 'neutral': 4,\n",
              " 'sad': 5,\n",
              " 'surprise': 6}"
            ]
          },
          "metadata": {
            "tags": []
          },
          "execution_count": 5
        }
      ]
    },
    {
      "cell_type": "code",
      "metadata": {
        "id": "aSMB1g6YoNIO"
      },
      "source": [
        "from torch.utils.data import DataLoader\n",
        "data_loader = DataLoader(data, batch_size=32, shuffle=True, num_workers=2)\n",
        "test_loader = DataLoader(data_test, batch_size=32, shuffle=True, num_workers=2)"
      ],
      "execution_count": 24,
      "outputs": []
    },
    {
      "cell_type": "code",
      "metadata": {
        "colab": {
          "base_uri": "https://localhost:8080/"
        },
        "id": "kqf1F9lDplbK",
        "outputId": "8b9fe95e-d2c1-46ba-a11c-5c66b47a35d7"
      },
      "source": [
        "it = iter(data_loader)\n",
        "first_batch = next(it)\n",
        "first_batch[0].size(),first_batch[1].size()"
      ],
      "execution_count": 7,
      "outputs": [
        {
          "output_type": "execute_result",
          "data": {
            "text/plain": [
              "(torch.Size([32, 1, 128, 128]), torch.Size([32]))"
            ]
          },
          "metadata": {
            "tags": []
          },
          "execution_count": 7
        }
      ]
    },
    {
      "cell_type": "markdown",
      "metadata": {
        "id": "bjYDpd0XG0xk"
      },
      "source": [
        "given mean and standard deviation of the distribution, we used random sample to \n",
        "sample a tensor from the distribution"
      ]
    },
    {
      "cell_type": "markdown",
      "metadata": {
        "id": "HjnEjaWKGUwS"
      },
      "source": [
        "# III. FCM"
      ]
    },
    {
      "cell_type": "markdown",
      "metadata": {
        "id": "Bm5eMTMtt4Mw"
      },
      "source": [
        "\n",
        "this kl-divergence (22) uses membership matrix qij to approximate student's-t Distribution pij in DEC,IDEC structures\n",
        "\n",
        "\n",
        "$$\n",
        "\\Large \\min KL(P||Q) = \\min \\sum_{i=1}^N \\sum_{j=1}^c p_{ij}\\log\\frac{p_{ij}}{q_{ij}} \\qquad (22)\n",
        "$$ "
      ]
    },
    {
      "cell_type": "code",
      "metadata": {
        "id": "S-HY4snJXyQ1",
        "colab": {
          "base_uri": "https://localhost:8080/"
        },
        "outputId": "ace78d3e-bcab-4ebf-9635-dc0c305c6e8e"
      },
      "source": [
        "loss_kl = nn.KLDivLoss(size_average=False)\n",
        "def KL_divergence(p,q):  \n",
        "  return loss_kl(q.log(), p) / q.shape[0]"
      ],
      "execution_count": 8,
      "outputs": [
        {
          "output_type": "stream",
          "text": [
            "/usr/local/lib/python3.7/dist-packages/torch/nn/_reduction.py:42: UserWarning: size_average and reduce args will be deprecated, please use reduction='sum' instead.\n",
            "  warnings.warn(warning.format(ret))\n"
          ],
          "name": "stderr"
        }
      ]
    },
    {
      "cell_type": "markdown",
      "metadata": {
        "id": "PpMMlTl-uAQQ"
      },
      "source": [
        "The desired target pij of the Student’s-t based membership qij\n",
        "is defined with (12), which increases the variance of qij and\n",
        "normalizes qij with respect of the jth center .\n",
        "\n",
        "$$\n",
        "\\Large p_{ij} = \\frac{q_{ij}^2 / \\sum_{i}q_{ij}}\n",
        "{\\sum_{k=1}^{c}(q_{ik}^2 / \\sum_{i}q_{ik})}, \n",
        "\\quad \\sum_{j=1}^{c}p_{ij} = 1, \\, \\forall{i} \\qquad (12)\n",
        "$$ "
      ]
    },
    {
      "cell_type": "code",
      "metadata": {
        "id": "zFhLcb3HJSh-"
      },
      "source": [
        "def calculate_p(q):\n",
        "  w = (q**2/torch.sum(q,0))\n",
        "  return (w.t()/torch.sum(w,1).t()).t()"
      ],
      "execution_count": 9,
      "outputs": []
    },
    {
      "cell_type": "markdown",
      "metadata": {
        "id": "bp-nCsCCuJ8p"
      },
      "source": [
        "Minimzing Fuzzy cluster compactness equivalent to minimize within class scatter matrix and maximize between class matrix.From this objective, fuzzy membership qij is given by (21)\n",
        "\n",
        "$$\n",
        "\\Large q_{ij} = \\frac{(\\|z_{i} - \\mu_{j}\\|^2 - \\frac{\\beta}{\\sum_{k=1}^{c}\\|\\mu_{k} - \\overline{\\mu}\\|^2}\\|\\mu_{j} - \\overline{\\mu}\\|^2)^{-1/(m-1)}}\n",
        "{\\sum_{k=1}^{c}(\\|z_{i} - \\mu_{k}\\|^2 - \\frac{\\beta}{\\sum_{k=1}^{c}\\|\\mu_{k} - \\overline{\\mu}\\|^2}\\|\\mu_{k} - \\overline{\\mu}\\|^2)^{-1/(m-1)}} \\qquad (21)\n",
        "$$ "
      ]
    },
    {
      "cell_type": "code",
      "metadata": {
        "id": "hAhrtIVOHAS0"
      },
      "source": [
        "class ClusterAssigment(nn.Module):\n",
        "  def __init__(self,cluster_number,cluster_center,embedding_dimension):\n",
        "    super(ClusterAssigment,self).__init__()  \n",
        "    self.cluster_number = cluster_number\n",
        "    self.embedding_dimension = embedding_dimension\n",
        "    if cluster_center is None:\n",
        "      initial_cluster_center = torch.zeros(cluster_number,embedding_dimension,dtype=torch.float).to('cuda')\n",
        "      nn.init.xavier_uniform_(initial_cluster_center)\n",
        "    else:\n",
        "      initial_cluster_center = cluster_center\n",
        "    self.cluster_center = nn.Parameter(initial_cluster_center,requires_grad=True).to('cuda') \n",
        "  def forward(self,z):\n",
        "    batch_size,embedding_dimension = z.size() \n",
        "    beta = 0.006\n",
        "    m = 1.5\n",
        "    power = -1/(m-1)\n",
        "    norm_squared = torch.sum((z.unsqueeze(1)-self.cluster_center)**2,2)\n",
        "    norm_squared_mu = torch.sum((self.cluster_center - self.cluster_center.mean())**2,1)\n",
        "    numerator = (norm_squared-beta/torch.sum(norm_squared_mu)*norm_squared_mu)**power\n",
        "    q = numerator/torch.sum(numerator,dim=1,keepdim=True)\n",
        "    return q"
      ],
      "execution_count": 10,
      "outputs": []
    },
    {
      "cell_type": "markdown",
      "metadata": {
        "id": "vL8uVJ-duRHD"
      },
      "source": [
        "Define label li,lv are pseudo labels of the maximum value's index of the datapoint with coresponding the C cluster, taking datapoints zi,zv we calculate the affinity between the datapoints when it has the same pseudo-labels or 0 otherwise\n",
        "\n",
        "$$\n",
        "\\Large s_{iv} = \n",
        "\\begin{cases} \n",
        "  \\exp(-\\|z_{i} - z_{v}\\|^2 / \\sigma) / t, \\quad l_i = l_v\n",
        "  \\\\\\\\\n",
        "  0, \\quad l_i \\ne l_v\n",
        "\\end{cases}\n",
        "\\qquad (28)\n",
        "$$"
      ]
    },
    {
      "cell_type": "code",
      "metadata": {
        "id": "wOYY9ZWQjQAg"
      },
      "source": [
        "def repeat(tensor, dims):\n",
        "    if len(dims) != len(tensor.shape):\n",
        "        raise ValueError(\"The length of the second argument must equal the number of dimensions of the first.\")\n",
        "    for index, dim in enumerate(dims):\n",
        "        repetition_vector = [1]*(len(dims)+1)\n",
        "        repetition_vector[index+1] = dim\n",
        "        new_tensor_shape = list(tensor.shape)\n",
        "        new_tensor_shape[index] *= dim\n",
        "        tensor = tensor.unsqueeze(index+1).repeat(repetition_vector).reshape(new_tensor_shape)\n",
        "    return tensor"
      ],
      "execution_count": 11,
      "outputs": []
    },
    {
      "cell_type": "code",
      "metadata": {
        "id": "buF4lhagemZE"
      },
      "source": [
        "def calculate_affinity(q,z):\n",
        "  batch,_ = q.size()\n",
        "  s_iv = torch.zeros(batch,batch).to(z.device)\n",
        "  labels = torch.argmax(q,axis=1)\n",
        "  sigma = 1\n",
        "  t = 0.08\n",
        "  x = (labels == labels.unsqueeze(1)).nonzero(as_tuple=True)\n",
        "  s_iv[x] = torch.exp(-torch.linalg.norm(z[x[0]] - z[x[1]], axis=1)**2/sigma)/t\n",
        "  return s_iv,labels\n"
      ],
      "execution_count": 12,
      "outputs": []
    },
    {
      "cell_type": "markdown",
      "metadata": {
        "id": "XZlkwbLeuXmn"
      },
      "source": [
        "Graph based regularization on hidden features with the assumption that the input data should be consistent with the ones in new representation (for example Z-representation). If the affinity of xi and xv is high then the distance between zi and zv must be low, on the other hand, if affinity of xi and xv is low like zero then the distance between zi and zv can be large . \n",
        "\n",
        "$$\n",
        "\\Large \\min G_z = \\min \\sum_{i,v=1}^{N} \\|z_i - z_v\\|^{2} s_{iv}\n",
        "$$"
      ]
    },
    {
      "cell_type": "code",
      "metadata": {
        "id": "HZlH2TEXlh0G"
      },
      "source": [
        "def graph_based_reg(q,z,s_iv,calculate_siv):\n",
        "  batch,_ = q.size()\n",
        "  if calculate_siv:\n",
        "      s_iv,pseudo_label =  calculate_affinity(q,z)\n",
        "  else:\n",
        "      pseudo_label=torch.argmax(q,axis=1)\n",
        "  z_i = repeat(z,[batch,1])\n",
        "  z_v = torch.tile(z, (batch,1))\n",
        "  l_graph_based_reg = torch.sum(torch.linalg.norm(z_i-z_v,dim=1)*s_iv.flatten())\n",
        "  return l_graph_based_reg, s_iv,pseudo_label"
      ],
      "execution_count": 13,
      "outputs": []
    },
    {
      "cell_type": "markdown",
      "metadata": {
        "id": "YYGL1_GtGtXV"
      },
      "source": [
        "# IV. Define and Train Model"
      ]
    },
    {
      "cell_type": "markdown",
      "metadata": {
        "id": "zP1mrXpWPsIf"
      },
      "source": [
        "The architecture of autoecnoder"
      ]
    },
    {
      "cell_type": "code",
      "metadata": {
        "id": "RPc0O78mIZYk"
      },
      "source": [
        "class VAE(nn.Module):\n",
        "    def __init__(self, nc, ngf, ndf, latent_variable_size):\n",
        "        super(VAE, self).__init__()\n",
        "        self.nc = nc\n",
        "        self.ngf = ngf\n",
        "        self.ndf = ndf\n",
        "        self.latent_variable_size = latent_variable_size\n",
        "\n",
        "        # encoder\n",
        "        self.e1 = nn.Conv2d(nc, ndf, 4, 2, 1)\n",
        "        self.bn1 = nn.BatchNorm2d(ndf)\n",
        "\n",
        "        self.e2 = nn.Conv2d(ndf, ndf*2, 4, 2, 1)\n",
        "        self.bn2 = nn.BatchNorm2d(ndf*2)\n",
        "\n",
        "        self.e3 = nn.Conv2d(ndf*2, ndf*4, 4, 2, 1)\n",
        "        self.bn3 = nn.BatchNorm2d(ndf*4)\n",
        "\n",
        "        self.e4 = nn.Conv2d(ndf*4, ndf*8, 4, 2, 1)\n",
        "        self.bn4 = nn.BatchNorm2d(ndf*8)\n",
        "\n",
        "        self.e5 = nn.Conv2d(ndf*8, ndf*8, 4, 2, 1)\n",
        "        self.bn5 = nn.BatchNorm2d(ndf*8)\n",
        "\n",
        "        self.fc1 = nn.Linear(ndf*8*4*4, latent_variable_size)\n",
        "        self.fc2 = nn.Linear(ndf*8*4*4, latent_variable_size)\n",
        "\n",
        "        # decoder\n",
        "        self.d1 = nn.Linear(latent_variable_size, ngf*8*2*4*4)\n",
        "\n",
        "        self.up1 = nn.UpsamplingNearest2d(scale_factor=2)\n",
        "        self.pd1 = nn.ReplicationPad2d(1)\n",
        "        self.d2 = nn.Conv2d(ngf*8*2, ngf*8, 3, 1)\n",
        "        self.bn6 = nn.BatchNorm2d(ngf*8, 1.e-3)\n",
        "\n",
        "        self.up2 = nn.UpsamplingNearest2d(scale_factor=2)\n",
        "        self.pd2 = nn.ReplicationPad2d(1)\n",
        "        self.d3 = nn.Conv2d(ngf*8, ngf*4, 3, 1)\n",
        "        self.bn7 = nn.BatchNorm2d(ngf*4, 1.e-3)\n",
        "\n",
        "        self.up3 = nn.UpsamplingNearest2d(scale_factor=2)\n",
        "        self.pd3 = nn.ReplicationPad2d(1)\n",
        "        self.d4 = nn.Conv2d(ngf*4, ngf*2, 3, 1)\n",
        "        self.bn8 = nn.BatchNorm2d(ngf*2, 1.e-3)\n",
        "\n",
        "        self.up4 = nn.UpsamplingNearest2d(scale_factor=2)\n",
        "        self.pd4 = nn.ReplicationPad2d(1)\n",
        "        self.d5 = nn.Conv2d(ngf*2, ngf, 3, 1)\n",
        "        self.bn9 = nn.BatchNorm2d(ngf, 1.e-3)\n",
        "\n",
        "        self.up5 = nn.UpsamplingNearest2d(scale_factor=2)\n",
        "        self.pd5 = nn.ReplicationPad2d(1)\n",
        "        self.d6 = nn.Conv2d(ngf, nc, 3, 1)\n",
        "\n",
        "        self.leakyrelu = nn.LeakyReLU(0.2)\n",
        "        self.relu = nn.ReLU()\n",
        "        self.sigmoid = nn.Sigmoid()\n",
        "\n",
        "\n",
        "        self.log_scale = nn.Parameter(torch.Tensor([0.0]))\n",
        "        self.assigment = ClusterAssigment(7,None,500)\n",
        "\n",
        "    def encode(self, x):\n",
        "        h1 = self.leakyrelu(self.bn1(self.e1(x)))\n",
        "        h2 = self.leakyrelu(self.bn2(self.e2(h1)))\n",
        "        h3 = self.leakyrelu(self.bn3(self.e3(h2)))\n",
        "        h4 = self.leakyrelu(self.bn4(self.e4(h3)))\n",
        "        h5 = self.leakyrelu(self.bn5(self.e5(h4)))\n",
        "        h5 = h5.view(-1,self.ndf*8*4*4)\n",
        "\n",
        "        return self.fc1(h5), self.fc2(h5)\n",
        "\n",
        "    def reparametrize(self, mu, logvar):\n",
        "        std = logvar.mul(0.5).exp_()\n",
        "        eps = torch.FloatTensor(std.size()).normal_().to('cuda')\n",
        "        eps = Variable(eps)\n",
        "        return eps.mul(std).add_(mu)\n",
        "\n",
        "    def decode(self, z):\n",
        "        h1 = self.relu(self.d1(z))\n",
        "        h1 = h1.view(-1, self.ngf*8*2, 4, 4)\n",
        "        h2 = self.leakyrelu(self.bn6(self.d2(self.pd1(self.up1(h1)))))\n",
        "        h3 = self.leakyrelu(self.bn7(self.d3(self.pd2(self.up2(h2)))))\n",
        "        h4 = self.leakyrelu(self.bn8(self.d4(self.pd3(self.up3(h3)))))\n",
        "        h5 = self.leakyrelu(self.bn9(self.d5(self.pd4(self.up4(h4)))))\n",
        "        return self.sigmoid(self.d6(self.pd5(self.up5(h5))))\n",
        "\n",
        "    def get_latent_var(self, x):\n",
        "        mu, logvar = self.encode(x.view(-1, self.nc, self.ndf, self.ngf))\n",
        "        z,_ = self.reparametrize(mu, logvar)\n",
        "        return z\n",
        "\n",
        "    def forward(self, x):\n",
        "        mu, logvar = self.encode(x.view(-1, self.nc, self.ndf, self.ngf))\n",
        "        kl_loss = 0.5*torch.sum(-1-logvar+mu**2+torch.exp(logvar))\n",
        "        z = self.reparametrize(mu, logvar)\n",
        "        q = self.assigment(z)\n",
        "        res = self.decode(z)\n",
        "        crit = nn.BCELoss()\n",
        "        llh_loss = crit(res, x)\n",
        "        var_loss = (llh_loss+kl_loss)\n",
        "        return z,q,var_loss\n"
      ],
      "execution_count": 14,
      "outputs": []
    },
    {
      "cell_type": "code",
      "metadata": {
        "colab": {
          "base_uri": "https://localhost:8080/"
        },
        "id": "Yw6AnmLHjVo8",
        "outputId": "497e4bc9-ef45-4eed-b0bd-75ec56758f6f"
      },
      "source": [
        "device = torch.device(\"cuda:0\" if torch.cuda.is_available() else \"cpu\")\n",
        "print(device)\n",
        "vae = VAE(nc=1, ngf=128, ndf=128, latent_variable_size=500).to('cuda')\n",
        "optimizer = torch.optim.Adam(vae.parameters(), lr=1e-4, betas=(0.9, 0.999))"
      ],
      "execution_count": 15,
      "outputs": [
        {
          "output_type": "stream",
          "text": [
            "cuda:0\n"
          ],
          "name": "stdout"
        }
      ]
    },
    {
      "cell_type": "markdown",
      "metadata": {
        "id": "lTDk-HqXugkd"
      },
      "source": [
        "Algorithm 1: the algorithm for graph regularized deep normalized fuzzy compactness separation clustering \n",
        "\n",
        "![image.png](data:image/png;base64,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)"
      ]
    },
    {
      "cell_type": "code",
      "metadata": {
        "id": "A0QjZNLC-vV-"
      },
      "source": [
        "plt.rcParams[\"figure.figsize\"] = (16, 8)\n",
        "\n",
        "from torchvision.utils import make_grid\n",
        "from tqdm import tqdm\n",
        "import time\n",
        "num_class=7\n",
        "alpha1 = 0.5\n",
        "alpha2 = 0.2\n",
        "batch=32\n",
        "\n",
        "prediction_n_ground = []\n",
        "S = []\n"
      ],
      "execution_count": 16,
      "outputs": []
    },
    {
      "cell_type": "markdown",
      "metadata": {
        "id": "_hR4DsRaQR6q"
      },
      "source": [
        "Pre-train autencoder"
      ]
    },
    {
      "cell_type": "code",
      "metadata": {
        "colab": {
          "base_uri": "https://localhost:8080/"
        },
        "id": "EOer2ublU7ra",
        "outputId": "a1464b88-1e81-4263-9db3-1764583bf7f5"
      },
      "source": [
        "def show_tensor_images(image_tensor, num_images=25, size=(1, 28, 28)):\n",
        "    image_unflat = image_tensor.detach().cpu()\n",
        "    image_grid = make_grid(image_unflat[:num_images], nrow=5)\n",
        "    plt.axis('off')\n",
        "    plt.imshow(image_grid.permute(1, 2, 0).squeeze())\n",
        "for epoch in range(2):\n",
        "     print(f\"Epoch {epoch}\")\n",
        "     time.sleep(0.5)\n",
        "     loss_mean=0\n",
        "     count=0\n",
        "     for images,r in tqdm(data_loader,position=0, leave=True): \n",
        "         optimizer.zero_grad() # Clear out the gradients\n",
        "         images = images.to(device)\n",
        "         z,q,var_loss = vae(images)\n",
        "         loss_mean+=var_loss.item()\n",
        "         count+=1\n",
        "         var_loss.backward()\n",
        "         optimizer.step()\n",
        "     print('mean loss:',loss_mean/count) "
      ],
      "execution_count": 18,
      "outputs": [
        {
          "output_type": "stream",
          "text": [
            "Epoch 0\n"
          ],
          "name": "stdout"
        },
        {
          "output_type": "stream",
          "text": [
            "100%|██████████| 898/898 [06:51<00:00,  2.18it/s]\n"
          ],
          "name": "stderr"
        },
        {
          "output_type": "stream",
          "text": [
            "2.004916259799078\n",
            "Epoch 1\n"
          ],
          "name": "stdout"
        },
        {
          "output_type": "stream",
          "text": [
            "100%|██████████| 898/898 [06:56<00:00,  2.16it/s]"
          ],
          "name": "stderr"
        },
        {
          "output_type": "stream",
          "text": [
            "5.896000193427825\n"
          ],
          "name": "stdout"
        },
        {
          "output_type": "stream",
          "text": [
            "\n"
          ],
          "name": "stderr"
        }
      ]
    },
    {
      "cell_type": "code",
      "metadata": {
        "colab": {
          "base_uri": "https://localhost:8080/"
        },
        "id": "3udL-rZSj-b2",
        "outputId": "70d060b0-630c-421b-9af8-3a30dcd5b010"
      },
      "source": [
        "features=[]\n",
        "from sklearn.cluster import KMeans\n",
        "kmeans = KMeans(7, n_init=20)\n",
        "for r,(images,_) in enumerate(tqdm(data_loader,position=0,leave=True)): \n",
        "  images = images.to(device)\n",
        "  z,q,var_loss = vae(images)\n",
        "  features.append(z.detach().cpu())\n",
        "\n",
        "predicted = kmeans.fit_predict(torch.cat(features).numpy())\n",
        "cluster_centers = torch.tensor(kmeans.cluster_centers_,dtype=torch.float,requires_grad=True).to(device)\n",
        "\n",
        "with torch.no_grad():\n",
        "   vae.assigment.cluster_center.copy_(cluster_centers)"
      ],
      "execution_count": 19,
      "outputs": [
        {
          "output_type": "stream",
          "text": [
            "100%|██████████| 898/898 [02:14<00:00,  6.70it/s]\n"
          ],
          "name": "stderr"
        }
      ]
    },
    {
      "cell_type": "markdown",
      "metadata": {
        "id": "_9__XwzTQV6H"
      },
      "source": [
        "Initilize parameters"
      ]
    },
    {
      "cell_type": "code",
      "metadata": {
        "colab": {
          "base_uri": "https://localhost:8080/"
        },
        "id": "zTaBJsRw2QYh",
        "outputId": "5cdb7d23-7394-45f4-c4bc-b717aa35f83e"
      },
      "source": [
        "#step 3 initialize\n",
        "device ='cuda'\n",
        "for images,_ in tqdm(data_loader,position=0,leave=True): \n",
        "      vae.eval()\n",
        "      s_iv = torch.zeros((batch,batch))\n",
        "      with torch.no_grad():\n",
        "          optimizer.zero_grad() # Clear out the gradients\n",
        "          images = images.to(device)\n",
        "          z,q,var_loss = vae(images)\n",
        "          _,s_iv,p_label = graph_based_reg(q,z,s_iv,True)\n",
        "          S.append(s_iv)"
      ],
      "execution_count": 20,
      "outputs": [
        {
          "output_type": "stream",
          "text": [
            "100%|██████████| 898/898 [02:14<00:00,  6.68it/s]\n"
          ],
          "name": "stderr"
        }
      ]
    },
    {
      "cell_type": "code",
      "metadata": {
        "id": "xBVO-n35NA7z"
      },
      "source": [
        "from itertools import permutations\n",
        "def remap_labels(pred_labels,true_labels):\n",
        "    pred_labels,true_labels = np.array(pred_labels),np.array(true_labels)\n",
        "    assert pred_labels.ndim == true_labels.ndim == 1\n",
        "    assert len(pred_labels) == len(true_labels)\n",
        "    cluster_names = np.unique(pred_labels)\n",
        "    accuracy = 0\n",
        "\n",
        "    perms = np.array(list(permutations(np.unique(true_labels))))\n",
        "\n",
        "    remapped_labels = true_labels\n",
        "    for perm in perms:\n",
        "        flipped_labels = np.zeros(len(true_labels))\n",
        "        for label_index,label in enumerate(cluster_names):\n",
        "            flipped_labels[pred_labels == label] = perm[label_index]\n",
        "\n",
        "        testAcc = np.sum(flipped_labels == true_labels) / len(true_labels)\n",
        "        if testAcc > accuracy:\n",
        "            accuracy = testAcc\n",
        "            remapped_labels = flipped_labels\n",
        "    return accuracy,remapped_labels"
      ],
      "execution_count": 21,
      "outputs": []
    },
    {
      "cell_type": "markdown",
      "metadata": {
        "id": "m_bd_hnBQbuJ"
      },
      "source": [
        "Train the whole model"
      ]
    },
    {
      "cell_type": "code",
      "metadata": {
        "colab": {
          "base_uri": "https://localhost:8080/"
        },
        "id": "ZXzI4QscF0S1",
        "outputId": "ae3e5b77-2bc4-4593-95ea-cc5a92cc6112"
      },
      "source": [
        "torch.autograd.set_detect_anomaly(True)\n",
        "#step 4 train\n",
        "alpha1 = 0.5\n",
        "alpha2 = 0.8\n",
        "for epoch in range(5):\n",
        "    print(f\"Epoch {epoch}\")\n",
        "    time.sleep(0.5)\n",
        "    loss_mean=0\n",
        "    for r,(images,_) in enumerate(tqdm(data_loader,position=0,leave=True)): \n",
        "        optimizer.zero_grad() # Clear out the gradients\n",
        "        S_r= S[r].to(device).to('cuda')\n",
        "        images = images.to(device)\n",
        "        z,q,var_loss = vae(images)\n",
        "        p = calculate_p(q)\n",
        "        loss_graph_based_reg,_,_ = graph_based_reg(q,z,S_r,False)\n",
        "        kl = KL_divergence(p,q)\n",
        " \n",
        "        loss = var_loss + alpha1*kl + alpha2*loss_graph_based_reg \n",
        "        loss_mean+=loss.item()\n",
        "        loss.backward()\n",
        "        optimizer.step()\n",
        "    print('mean loss:',loss_mean/r)\n",
        "    preds = []\n",
        "    gts = []\n",
        "    vae.eval()\n",
        "    for r,(images,ground_truth) in enumerate(tqdm(data_loader,position=0,leave=True)):\n",
        "        optimizer.zero_grad()\n",
        "        images = images.to(device)\n",
        "        z,q,var_loss = vae(images)\n",
        "        _,s_iv,p_label = graph_based_reg(q,z,S[r].to(device),True)\n",
        "        S[r]= s_iv.detach().clone()\n",
        "        preds.append(p_label.squeeze(0).detach().cpu())\n",
        "        gts.append(ground_truth.squeeze(0).detach().cpu())\n",
        "    prediction = torch.cat(preds).numpy()\n",
        "    g_truth = torch.cat(gts).numpy()\n",
        "    acc = remap_labels(prediction,g_truth)\n",
        "    print('accuracy:',acc)\n",
        "    \n",
        "    #test\n",
        "    test_pred = []\n",
        "    test_gt = []\n",
        "    for r,(images,ground_truth) in enumerate(tqdm(test_loader,position=0,leave=True)):\n",
        "        optimizer.zero_grad()\n",
        "        images = images.to(device)\n",
        "        _,q,_ = vae(images)\n",
        "        prediction_test = torch.argmax(q,axis=1)\n",
        "        test_pred.append(prediction_test.squeeze(0).detach().cpu())\n",
        "        test_gt.append(ground_truth.squeeze(0).detach().cpu())\n",
        "    test_pred = torch.cat(test_pred).numpy()\n",
        "    test_gt = torch.cat(test_gt).numpy()\n",
        "    acc = remap_labels(test_pred,test_gt)\n",
        "    print('accuracy:',acc)"
      ],
      "execution_count": 29,
      "outputs": [
        {
          "output_type": "stream",
          "text": [
            "Epoch 0\n"
          ],
          "name": "stdout"
        },
        {
          "output_type": "stream",
          "text": [
            "100%|██████████| 898/898 [07:07<00:00,  2.10it/s]\n",
            "  0%|          | 0/898 [00:00<?, ?it/s]"
          ],
          "name": "stderr"
        },
        {
          "output_type": "stream",
          "text": [
            "mean loss: -3.4800017614438277\n"
          ],
          "name": "stdout"
        },
        {
          "output_type": "stream",
          "text": [
            "100%|██████████| 898/898 [02:20<00:00,  6.41it/s]\n",
            "  0%|          | 0/225 [00:00<?, ?it/s]"
          ],
          "name": "stderr"
        },
        {
          "output_type": "stream",
          "text": [
            "accuracy: (0.2021665679751994, array([2., 4., 3., ..., 4., 3., 3.]))\n"
          ],
          "name": "stdout"
        },
        {
          "output_type": "stream",
          "text": [
            "100%|██████████| 225/225 [00:34<00:00,  6.55it/s]\n"
          ],
          "name": "stderr"
        },
        {
          "output_type": "stream",
          "text": [
            "accuracy: (0.2031206464196155, array([5., 0., 0., ..., 3., 6., 3.]))\n",
            "Epoch 1\n"
          ],
          "name": "stdout"
        },
        {
          "output_type": "stream",
          "text": [
            "100%|██████████| 898/898 [07:07<00:00,  2.10it/s]\n",
            "  0%|          | 0/898 [00:00<?, ?it/s]"
          ],
          "name": "stderr"
        },
        {
          "output_type": "stream",
          "text": [
            "mean loss: -3.457549235219221\n"
          ],
          "name": "stdout"
        },
        {
          "output_type": "stream",
          "text": [
            "100%|██████████| 898/898 [02:20<00:00,  6.39it/s]\n",
            "  0%|          | 0/225 [00:00<?, ?it/s]"
          ],
          "name": "stderr"
        },
        {
          "output_type": "stream",
          "text": [
            "accuracy: (0.20551046710090912, array([4., 4., 3., ..., 4., 3., 3.]))\n"
          ],
          "name": "stdout"
        },
        {
          "output_type": "stream",
          "text": [
            "100%|██████████| 225/225 [00:34<00:00,  6.56it/s]\n"
          ],
          "name": "stderr"
        },
        {
          "output_type": "stream",
          "text": [
            "accuracy: (0.20367790470883254, array([5., 5., 5., ..., 5., 5., 3.]))\n",
            "Epoch 2\n"
          ],
          "name": "stdout"
        },
        {
          "output_type": "stream",
          "text": [
            "100%|██████████| 898/898 [07:06<00:00,  2.11it/s]\n",
            "  0%|          | 0/898 [00:00<?, ?it/s]"
          ],
          "name": "stderr"
        },
        {
          "output_type": "stream",
          "text": [
            "mean loss: -3.541182879827306\n"
          ],
          "name": "stdout"
        },
        {
          "output_type": "stream",
          "text": [
            "100%|██████████| 898/898 [02:19<00:00,  6.42it/s]\n",
            "  0%|          | 0/225 [00:00<?, ?it/s]"
          ],
          "name": "stderr"
        },
        {
          "output_type": "stream",
          "text": [
            "accuracy: (0.21115329687554427, array([4., 3., 4., ..., 4., 3., 4.]))\n"
          ],
          "name": "stdout"
        },
        {
          "output_type": "stream",
          "text": [
            "100%|██████████| 225/225 [00:34<00:00,  6.56it/s]\n"
          ],
          "name": "stderr"
        },
        {
          "output_type": "stream",
          "text": [
            "accuracy: (0.2095291167456116, array([3., 4., 3., ..., 4., 4., 3.]))\n",
            "Epoch 3\n"
          ],
          "name": "stdout"
        },
        {
          "output_type": "stream",
          "text": [
            "100%|██████████| 898/898 [07:07<00:00,  2.10it/s]\n",
            "  0%|          | 0/898 [00:00<?, ?it/s]"
          ],
          "name": "stderr"
        },
        {
          "output_type": "stream",
          "text": [
            "mean loss: -3.5588028927249553\n"
          ],
          "name": "stdout"
        },
        {
          "output_type": "stream",
          "text": [
            "100%|██████████| 898/898 [02:19<00:00,  6.42it/s]\n",
            "  0%|          | 0/225 [00:00<?, ?it/s]"
          ],
          "name": "stderr"
        },
        {
          "output_type": "stream",
          "text": [
            "accuracy: (0.21439269915357553, array([3., 5., 3., ..., 3., 5., 3.]))\n"
          ],
          "name": "stdout"
        },
        {
          "output_type": "stream",
          "text": [
            "100%|██████████| 225/225 [00:34<00:00,  6.57it/s]\n"
          ],
          "name": "stderr"
        },
        {
          "output_type": "stream",
          "text": [
            "accuracy: (0.224575090554472, array([4., 4., 3., ..., 3., 3., 3.]))\n",
            "Epoch 4\n"
          ],
          "name": "stdout"
        },
        {
          "output_type": "stream",
          "text": [
            "100%|██████████| 898/898 [07:06<00:00,  2.10it/s]\n",
            "  0%|          | 0/898 [00:00<?, ?it/s]"
          ],
          "name": "stderr"
        },
        {
          "output_type": "stream",
          "text": [
            "mean loss: -3.5791299575198714\n"
          ],
          "name": "stdout"
        },
        {
          "output_type": "stream",
          "text": [
            "100%|██████████| 898/898 [02:20<00:00,  6.41it/s]\n",
            "  0%|          | 0/225 [00:00<?, ?it/s]"
          ],
          "name": "stderr"
        },
        {
          "output_type": "stream",
          "text": [
            "accuracy: (0.2142882023058971, array([5., 3., 0., ..., 4., 3., 4.]))\n"
          ],
          "name": "stdout"
        },
        {
          "output_type": "stream",
          "text": [
            "100%|██████████| 225/225 [00:34<00:00,  6.56it/s]\n"
          ],
          "name": "stderr"
        },
        {
          "output_type": "stream",
          "text": [
            "accuracy: (0.2106436333240457, array([3., 3., 3., ..., 3., 4., 5.]))\n"
          ],
          "name": "stdout"
        }
      ]
    },
    {
      "cell_type": "code",
      "metadata": {
        "id": "DCncIcM3rbCt"
      },
      "source": [
        "torch.save(ae.state_dict(),'/content/ae.pth')"
      ],
      "execution_count": null,
      "outputs": []
    }
  ]
}